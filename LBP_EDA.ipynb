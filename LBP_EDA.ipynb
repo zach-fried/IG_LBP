{
 "cells": [
  {
   "cell_type": "code",
   "execution_count": 2,
   "metadata": {},
   "outputs": [],
   "source": [
    "import pandas as pd"
   ]
  },
  {
   "cell_type": "code",
   "execution_count": 3,
   "metadata": {},
   "outputs": [],
   "source": [
    "df = pd.read_csv(\"clean_cap.csv\")"
   ]
  },
  {
   "cell_type": "code",
   "execution_count": 4,
   "metadata": {},
   "outputs": [
    {
     "data": {
      "text/html": [
       "<div>\n",
       "<style scoped>\n",
       "    .dataframe tbody tr th:only-of-type {\n",
       "        vertical-align: middle;\n",
       "    }\n",
       "\n",
       "    .dataframe tbody tr th {\n",
       "        vertical-align: top;\n",
       "    }\n",
       "\n",
       "    .dataframe thead th {\n",
       "        text-align: right;\n",
       "    }\n",
       "</style>\n",
       "<table border=\"1\" class=\"dataframe\">\n",
       "  <thead>\n",
       "    <tr style=\"text-align: right;\">\n",
       "      <th></th>\n",
       "      <th>Unnamed: 0</th>\n",
       "      <th>post_type</th>\n",
       "      <th>owner</th>\n",
       "      <th>owner_bio</th>\n",
       "      <th>date</th>\n",
       "      <th>caption</th>\n",
       "      <th>num_likes</th>\n",
       "      <th>num_comments</th>\n",
       "      <th>is_video</th>\n",
       "      <th>video_views</th>\n",
       "    </tr>\n",
       "  </thead>\n",
       "  <tbody>\n",
       "    <tr>\n",
       "      <td>0</td>\n",
       "      <td>0</td>\n",
       "      <td>GraphImage</td>\n",
       "      <td>daily_health_post</td>\n",
       "      <td>Healthy🍍Nutrition🥦Wellness💪\\nCurating the best...</td>\n",
       "      <td>2020-08-10 19:10:23</td>\n",
       "      <td>This #homemaderub is a relaxing treat that soo...</td>\n",
       "      <td>0</td>\n",
       "      <td>1</td>\n",
       "      <td>False</td>\n",
       "      <td>NaN</td>\n",
       "    </tr>\n",
       "    <tr>\n",
       "      <td>1</td>\n",
       "      <td>1</td>\n",
       "      <td>GraphVideo</td>\n",
       "      <td>drtonychiro</td>\n",
       "      <td>🔒Fix Neck, Back, Nerve Pain🔑\\n🚐Auto Accident R...</td>\n",
       "      <td>2020-08-10 19:10:03</td>\n",
       "      <td>Why #Walking Poorly causes Pain.\\n How to #Fix...</td>\n",
       "      <td>0</td>\n",
       "      <td>0</td>\n",
       "      <td>True</td>\n",
       "      <td>0.0</td>\n",
       "    </tr>\n",
       "    <tr>\n",
       "      <td>2</td>\n",
       "      <td>2</td>\n",
       "      <td>GraphSidecar</td>\n",
       "      <td>northcenterhealthcare</td>\n",
       "      <td>•Athletes•Pregnancy•Postpartum\\n🌿Chiropractic\\...</td>\n",
       "      <td>2020-08-10 19:09:56</td>\n",
       "      <td>What is an appointment with Dr. Moschovas like...</td>\n",
       "      <td>0</td>\n",
       "      <td>0</td>\n",
       "      <td>False</td>\n",
       "      <td>NaN</td>\n",
       "    </tr>\n",
       "    <tr>\n",
       "      <td>3</td>\n",
       "      <td>3</td>\n",
       "      <td>GraphImage</td>\n",
       "      <td>alphaspinecenter</td>\n",
       "      <td>ASC is a place of restored hope for people tha...</td>\n",
       "      <td>2020-08-10 19:09:04</td>\n",
       "      <td>WHAT'S YOUR PLAN?\\n\\nReach out to us directly ...</td>\n",
       "      <td>0</td>\n",
       "      <td>0</td>\n",
       "      <td>False</td>\n",
       "      <td>NaN</td>\n",
       "    </tr>\n",
       "    <tr>\n",
       "      <td>4</td>\n",
       "      <td>4</td>\n",
       "      <td>GraphImage</td>\n",
       "      <td>dr_spine1</td>\n",
       "      <td>Here at Urgent Care Chiropractic, we take grea...</td>\n",
       "      <td>2020-08-10 19:07:13</td>\n",
       "      <td>If you are hoping to find a non-invasive solut...</td>\n",
       "      <td>0</td>\n",
       "      <td>0</td>\n",
       "      <td>False</td>\n",
       "      <td>NaN</td>\n",
       "    </tr>\n",
       "  </tbody>\n",
       "</table>\n",
       "</div>"
      ],
      "text/plain": [
       "   Unnamed: 0     post_type                  owner  \\\n",
       "0           0    GraphImage      daily_health_post   \n",
       "1           1    GraphVideo            drtonychiro   \n",
       "2           2  GraphSidecar  northcenterhealthcare   \n",
       "3           3    GraphImage       alphaspinecenter   \n",
       "4           4    GraphImage              dr_spine1   \n",
       "\n",
       "                                           owner_bio                 date  \\\n",
       "0  Healthy🍍Nutrition🥦Wellness💪\\nCurating the best...  2020-08-10 19:10:23   \n",
       "1  🔒Fix Neck, Back, Nerve Pain🔑\\n🚐Auto Accident R...  2020-08-10 19:10:03   \n",
       "2  •Athletes•Pregnancy•Postpartum\\n🌿Chiropractic\\...  2020-08-10 19:09:56   \n",
       "3  ASC is a place of restored hope for people tha...  2020-08-10 19:09:04   \n",
       "4  Here at Urgent Care Chiropractic, we take grea...  2020-08-10 19:07:13   \n",
       "\n",
       "                                             caption  num_likes  num_comments  \\\n",
       "0  This #homemaderub is a relaxing treat that soo...          0             1   \n",
       "1  Why #Walking Poorly causes Pain.\\n How to #Fix...          0             0   \n",
       "2  What is an appointment with Dr. Moschovas like...          0             0   \n",
       "3  WHAT'S YOUR PLAN?\\n\\nReach out to us directly ...          0             0   \n",
       "4  If you are hoping to find a non-invasive solut...          0             0   \n",
       "\n",
       "   is_video  video_views  \n",
       "0     False          NaN  \n",
       "1      True          0.0  \n",
       "2     False          NaN  \n",
       "3     False          NaN  \n",
       "4     False          NaN  "
      ]
     },
     "execution_count": 4,
     "metadata": {},
     "output_type": "execute_result"
    }
   ],
   "source": [
    "df.head()"
   ]
  },
  {
   "cell_type": "code",
   "execution_count": 5,
   "metadata": {},
   "outputs": [
    {
     "data": {
      "text/plain": [
       "(998, 10)"
      ]
     },
     "execution_count": 5,
     "metadata": {},
     "output_type": "execute_result"
    }
   ],
   "source": [
    "df.shape"
   ]
  },
  {
   "cell_type": "code",
   "execution_count": 6,
   "metadata": {},
   "outputs": [
    {
     "data": {
      "text/plain": [
       "Index(['Unnamed: 0', 'post_type', 'owner', 'owner_bio', 'date', 'caption',\n",
       "       'num_likes', 'num_comments', 'is_video', 'video_views'],\n",
       "      dtype='object')"
      ]
     },
     "execution_count": 6,
     "metadata": {},
     "output_type": "execute_result"
    }
   ],
   "source": [
    "df.columns"
   ]
  },
  {
   "cell_type": "code",
   "execution_count": 7,
   "metadata": {},
   "outputs": [
    {
     "name": "stdout",
     "output_type": "stream",
     "text": [
      "<class 'pandas.core.frame.DataFrame'>\n",
      "RangeIndex: 998 entries, 0 to 997\n",
      "Data columns (total 10 columns):\n",
      "Unnamed: 0      998 non-null int64\n",
      "post_type       998 non-null object\n",
      "owner           998 non-null object\n",
      "owner_bio       961 non-null object\n",
      "date            998 non-null object\n",
      "caption         998 non-null object\n",
      "num_likes       998 non-null int64\n",
      "num_comments    998 non-null int64\n",
      "is_video        998 non-null bool\n",
      "video_views     170 non-null float64\n",
      "dtypes: bool(1), float64(1), int64(3), object(5)\n",
      "memory usage: 71.3+ KB\n"
     ]
    }
   ],
   "source": [
    "df.info()"
   ]
  },
  {
   "cell_type": "code",
   "execution_count": 8,
   "metadata": {},
   "outputs": [],
   "source": [
    "df.drop('Unnamed: 0', axis=1, inplace=True)"
   ]
  },
  {
   "cell_type": "code",
   "execution_count": 9,
   "metadata": {},
   "outputs": [
    {
     "data": {
      "text/plain": [
       "(998, 9)"
      ]
     },
     "execution_count": 9,
     "metadata": {},
     "output_type": "execute_result"
    }
   ],
   "source": [
    "df.shape"
   ]
  },
  {
   "cell_type": "code",
   "execution_count": 10,
   "metadata": {},
   "outputs": [
    {
     "data": {
      "text/html": [
       "<div>\n",
       "<style scoped>\n",
       "    .dataframe tbody tr th:only-of-type {\n",
       "        vertical-align: middle;\n",
       "    }\n",
       "\n",
       "    .dataframe tbody tr th {\n",
       "        vertical-align: top;\n",
       "    }\n",
       "\n",
       "    .dataframe thead th {\n",
       "        text-align: right;\n",
       "    }\n",
       "</style>\n",
       "<table border=\"1\" class=\"dataframe\">\n",
       "  <thead>\n",
       "    <tr style=\"text-align: right;\">\n",
       "      <th></th>\n",
       "      <th>post_type</th>\n",
       "      <th>owner</th>\n",
       "      <th>owner_bio</th>\n",
       "      <th>date</th>\n",
       "      <th>caption</th>\n",
       "      <th>num_likes</th>\n",
       "      <th>num_comments</th>\n",
       "      <th>is_video</th>\n",
       "      <th>video_views</th>\n",
       "    </tr>\n",
       "  </thead>\n",
       "  <tbody>\n",
       "    <tr>\n",
       "      <td>0</td>\n",
       "      <td>GraphImage</td>\n",
       "      <td>daily_health_post</td>\n",
       "      <td>Healthy🍍Nutrition🥦Wellness💪\\nCurating the best...</td>\n",
       "      <td>2020-08-10 19:10:23</td>\n",
       "      <td>This #homemaderub is a relaxing treat that soo...</td>\n",
       "      <td>0</td>\n",
       "      <td>1</td>\n",
       "      <td>False</td>\n",
       "      <td>NaN</td>\n",
       "    </tr>\n",
       "    <tr>\n",
       "      <td>1</td>\n",
       "      <td>GraphVideo</td>\n",
       "      <td>drtonychiro</td>\n",
       "      <td>🔒Fix Neck, Back, Nerve Pain🔑\\n🚐Auto Accident R...</td>\n",
       "      <td>2020-08-10 19:10:03</td>\n",
       "      <td>Why #Walking Poorly causes Pain.\\n How to #Fix...</td>\n",
       "      <td>0</td>\n",
       "      <td>0</td>\n",
       "      <td>True</td>\n",
       "      <td>0.0</td>\n",
       "    </tr>\n",
       "    <tr>\n",
       "      <td>2</td>\n",
       "      <td>GraphSidecar</td>\n",
       "      <td>northcenterhealthcare</td>\n",
       "      <td>•Athletes•Pregnancy•Postpartum\\n🌿Chiropractic\\...</td>\n",
       "      <td>2020-08-10 19:09:56</td>\n",
       "      <td>What is an appointment with Dr. Moschovas like...</td>\n",
       "      <td>0</td>\n",
       "      <td>0</td>\n",
       "      <td>False</td>\n",
       "      <td>NaN</td>\n",
       "    </tr>\n",
       "    <tr>\n",
       "      <td>3</td>\n",
       "      <td>GraphImage</td>\n",
       "      <td>alphaspinecenter</td>\n",
       "      <td>ASC is a place of restored hope for people tha...</td>\n",
       "      <td>2020-08-10 19:09:04</td>\n",
       "      <td>WHAT'S YOUR PLAN?\\n\\nReach out to us directly ...</td>\n",
       "      <td>0</td>\n",
       "      <td>0</td>\n",
       "      <td>False</td>\n",
       "      <td>NaN</td>\n",
       "    </tr>\n",
       "    <tr>\n",
       "      <td>4</td>\n",
       "      <td>GraphImage</td>\n",
       "      <td>dr_spine1</td>\n",
       "      <td>Here at Urgent Care Chiropractic, we take grea...</td>\n",
       "      <td>2020-08-10 19:07:13</td>\n",
       "      <td>If you are hoping to find a non-invasive solut...</td>\n",
       "      <td>0</td>\n",
       "      <td>0</td>\n",
       "      <td>False</td>\n",
       "      <td>NaN</td>\n",
       "    </tr>\n",
       "  </tbody>\n",
       "</table>\n",
       "</div>"
      ],
      "text/plain": [
       "      post_type                  owner  \\\n",
       "0    GraphImage      daily_health_post   \n",
       "1    GraphVideo            drtonychiro   \n",
       "2  GraphSidecar  northcenterhealthcare   \n",
       "3    GraphImage       alphaspinecenter   \n",
       "4    GraphImage              dr_spine1   \n",
       "\n",
       "                                           owner_bio                 date  \\\n",
       "0  Healthy🍍Nutrition🥦Wellness💪\\nCurating the best...  2020-08-10 19:10:23   \n",
       "1  🔒Fix Neck, Back, Nerve Pain🔑\\n🚐Auto Accident R...  2020-08-10 19:10:03   \n",
       "2  •Athletes•Pregnancy•Postpartum\\n🌿Chiropractic\\...  2020-08-10 19:09:56   \n",
       "3  ASC is a place of restored hope for people tha...  2020-08-10 19:09:04   \n",
       "4  Here at Urgent Care Chiropractic, we take grea...  2020-08-10 19:07:13   \n",
       "\n",
       "                                             caption  num_likes  num_comments  \\\n",
       "0  This #homemaderub is a relaxing treat that soo...          0             1   \n",
       "1  Why #Walking Poorly causes Pain.\\n How to #Fix...          0             0   \n",
       "2  What is an appointment with Dr. Moschovas like...          0             0   \n",
       "3  WHAT'S YOUR PLAN?\\n\\nReach out to us directly ...          0             0   \n",
       "4  If you are hoping to find a non-invasive solut...          0             0   \n",
       "\n",
       "   is_video  video_views  \n",
       "0     False          NaN  \n",
       "1      True          0.0  \n",
       "2     False          NaN  \n",
       "3     False          NaN  \n",
       "4     False          NaN  "
      ]
     },
     "execution_count": 10,
     "metadata": {},
     "output_type": "execute_result"
    }
   ],
   "source": [
    "df.head()"
   ]
  },
  {
   "cell_type": "code",
   "execution_count": 11,
   "metadata": {},
   "outputs": [],
   "source": [
    "words_to_avoid = [\"degenerative\", \"degeneration\", \"instability\", \"tear\", \"damage\", \"harm\", \"pinched\", \"bulge\", \n",
    "                  \"herniation\", \"herniate\", \"disease\", \"syndrome\", \"chronic\", \"neurological\", \"fragile\"]\n",
    "def nocebo_count(caption):\n",
    "    nocebo_count = 0\n",
    "    for word in words_to_avoid:\n",
    "        if word in caption.lower():\n",
    "            nocebo_count += 1\n",
    "    \n",
    "    return nocebo_count"
   ]
  },
  {
   "cell_type": "code",
   "execution_count": 12,
   "metadata": {},
   "outputs": [],
   "source": [
    "df[\"nocebo_count\"] = df[\"caption\"].apply(nocebo_count)"
   ]
  },
  {
   "cell_type": "code",
   "execution_count": 13,
   "metadata": {},
   "outputs": [
    {
     "data": {
      "text/plain": [
       "count    998.000000\n",
       "mean       0.292585\n",
       "std        0.666256\n",
       "min        0.000000\n",
       "25%        0.000000\n",
       "50%        0.000000\n",
       "75%        0.000000\n",
       "max        5.000000\n",
       "Name: nocebo_count, dtype: float64"
      ]
     },
     "execution_count": 13,
     "metadata": {},
     "output_type": "execute_result"
    }
   ],
   "source": [
    "df.nocebo_count.describe()"
   ]
  },
  {
   "cell_type": "code",
   "execution_count": 86,
   "metadata": {},
   "outputs": [],
   "source": [
    "df['owner_bio'] = df['owner_bio'].str.replace('\\n', '')"
   ]
  },
  {
   "cell_type": "code",
   "execution_count": 87,
   "metadata": {},
   "outputs": [
    {
     "data": {
      "text/plain": [
       "0    Healthy🍍Nutrition🥦Wellness💪Curating the best w...\n",
       "1    🔒Fix Neck, Back, Nerve Pain🔑🚐Auto Accident Rec...\n",
       "2    •Athletes•Pregnancy•Postpartum🌿Chiropractic🌿Sp...\n",
       "3    ASC is a place of restored hope for people tha...\n",
       "4    Here at Urgent Care Chiropractic, we take grea...\n",
       "Name: owner_bio, dtype: object"
      ]
     },
     "execution_count": 87,
     "metadata": {},
     "output_type": "execute_result"
    }
   ],
   "source": [
    "df['owner_bio'].head()"
   ]
  },
  {
   "cell_type": "markdown",
   "metadata": {},
   "source": [
    "Creating a feature that categorizes the owner of the post as a Physical Therapist (PT), Chiropractor (DC), or Medical Doctor/Osteopath (MD/DO) based on the content of their Instagram bio\n",
    "---"
   ]
  },
  {
   "cell_type": "code",
   "execution_count": 92,
   "metadata": {},
   "outputs": [],
   "source": [
    "df['is_PT'] = df['owner_bio'].apply(lambda x: 1 if 'physical therapist' in str(x).lower() \n",
    "                                    or 'physical therapy' in str(x).lower()\n",
    "                                    or ' pt ' in str(x).lower()\n",
    "                                    or 'dpt' in str(x).lower()\n",
    "                                    or 'doctor of physical therapy' in str(x).lower()\n",
    "                                    or 'physio' in str(x).lower()\n",
    "                                    or 'physiotherapist' in str(x).lower()\n",
    "                                    else 0)\n",
    "\n",
    "df['is_DC'] = df['owner_bio'].apply(lambda x: 1 if 'chiropractor' in str(x).lower() \n",
    "                                    or 'chiro' in str(x).lower()\n",
    "                                    or ' dc ' in str(x).lower()\n",
    "                                    or 'doctor of chiropractic' in str(x).lower()\n",
    "                                    else 0)\n",
    "\n",
    "df['is_MD'] = df['owner_bio'].apply(lambda x: 1 if 'medical doctor' in str(x).lower() \n",
    "                                    or 'osteopath' in str(x).lower()\n",
    "                                    or 'osteopathic' in str(x).lower()\n",
    "                                    or ' md ' in str(x).lower()\n",
    "                                    or 'orthopedist' in str(x).lower()\n",
    "                                    or 'orthopedic surgeon' in str(x).lower()\n",
    "                                    else 0)"
   ]
  },
  {
   "cell_type": "code",
   "execution_count": 89,
   "metadata": {},
   "outputs": [
    {
     "data": {
      "text/plain": [
       "122"
      ]
     },
     "execution_count": 89,
     "metadata": {},
     "output_type": "execute_result"
    }
   ],
   "source": [
    "# How many owner profiles are categorized as PTs\n",
    "df[df['is_PT'] == 1].shape[0]"
   ]
  },
  {
   "cell_type": "code",
   "execution_count": 93,
   "metadata": {},
   "outputs": [
    {
     "data": {
      "text/plain": [
       "161"
      ]
     },
     "execution_count": 93,
     "metadata": {},
     "output_type": "execute_result"
    }
   ],
   "source": [
    "# How many owner profiles are categorized as DCs\n",
    "df[df['is_DC'] == 1].shape[0]"
   ]
  },
  {
   "cell_type": "code",
   "execution_count": 90,
   "metadata": {},
   "outputs": [
    {
     "data": {
      "text/plain": [
       "23"
      ]
     },
     "execution_count": 90,
     "metadata": {},
     "output_type": "execute_result"
    }
   ],
   "source": [
    "# How many owner profiles are categorized as MDs/DOs\n",
    "df[df['is_MD'] == 1].shape[0]"
   ]
  },
  {
   "cell_type": "code",
   "execution_count": 91,
   "metadata": {},
   "outputs": [
    {
     "data": {
      "text/plain": [
       "5"
      ]
     },
     "execution_count": 91,
     "metadata": {},
     "output_type": "execute_result"
    }
   ],
   "source": [
    "# How many owner profiles are categorized as PTs and MDs/DOs?\n",
    "df[(df['is_MD'] == 1) & (df['is_PT'] == 1)].shape[0]"
   ]
  },
  {
   "cell_type": "code",
   "execution_count": 94,
   "metadata": {},
   "outputs": [
    {
     "data": {
      "text/plain": [
       "16"
      ]
     },
     "execution_count": 94,
     "metadata": {},
     "output_type": "execute_result"
    }
   ],
   "source": [
    "# How many owner profiles are categorized as PTs and DCs?\n",
    "df[(df['is_DC'] == 1) & (df['is_PT'] == 1)].shape[0]"
   ]
  },
  {
   "cell_type": "code",
   "execution_count": 95,
   "metadata": {},
   "outputs": [
    {
     "data": {
      "text/plain": [
       "3"
      ]
     },
     "execution_count": 95,
     "metadata": {},
     "output_type": "execute_result"
    }
   ],
   "source": [
    "# How many owner profiles are categorized as DCs and MDs/DOs?\n",
    "df[(df['is_MD'] == 1) & (df['is_DC'] == 1)].shape[0]"
   ]
  }
 ],
 "metadata": {
  "kernelspec": {
   "display_name": "Python 3",
   "language": "python",
   "name": "python3"
  },
  "language_info": {
   "codemirror_mode": {
    "name": "ipython",
    "version": 3
   },
   "file_extension": ".py",
   "mimetype": "text/x-python",
   "name": "python",
   "nbconvert_exporter": "python",
   "pygments_lexer": "ipython3",
   "version": "3.7.4"
  }
 },
 "nbformat": 4,
 "nbformat_minor": 4
}
