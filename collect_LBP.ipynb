{
 "cells": [
  {
   "cell_type": "code",
   "execution_count": 25,
   "metadata": {},
   "outputs": [],
   "source": [
    "import pandas as pd\n",
    "import instaloader"
   ]
  },
  {
   "cell_type": "code",
   "execution_count": 26,
   "metadata": {},
   "outputs": [],
   "source": [
    "L = instaloader.Instaloader()"
   ]
  },
  {
   "cell_type": "code",
   "execution_count": 27,
   "metadata": {},
   "outputs": [
    {
     "data": {
      "text/plain": [
       "<instaloader.instaloader.Instaloader at 0x120fa8110>"
      ]
     },
     "execution_count": 27,
     "metadata": {},
     "output_type": "execute_result"
    }
   ],
   "source": [
    "L"
   ]
  },
  {
   "cell_type": "code",
   "execution_count": 28,
   "metadata": {},
   "outputs": [],
   "source": [
    "hashtag = instaloader.Hashtag.from_name(L.context, \"backpain\")"
   ]
  },
  {
   "cell_type": "code",
   "execution_count": 29,
   "metadata": {},
   "outputs": [],
   "source": [
    "posts = hashtag.get_posts()"
   ]
  },
  {
   "cell_type": "code",
   "execution_count": 30,
   "metadata": {},
   "outputs": [
    {
     "data": {
      "text/plain": [
       "<generator object Hashtag.get_posts at 0x120f9c4d0>"
      ]
     },
     "execution_count": 30,
     "metadata": {},
     "output_type": "execute_result"
    }
   ],
   "source": [
    "posts"
   ]
  },
  {
   "cell_type": "markdown",
   "metadata": {},
   "source": [
    "The `parse_post()` function takes a `post` object as input, parses the `post` object, assigns relevant data to variables, and returns the post data as a list object."
   ]
  },
  {
   "cell_type": "code",
   "execution_count": 31,
   "metadata": {},
   "outputs": [],
   "source": [
    "def parse_post(post):\n",
    "    caption = post.caption\n",
    "    owner = post.owner_profile.username\n",
    "    owner_bio = post.owner_profile.biography\n",
    "    date = post.date\n",
    "    post_type = post.typename\n",
    "    is_video = post.is_video\n",
    "    video_views = post.video_view_count\n",
    "    likes = post.likes\n",
    "    num_comments = post.comments\n",
    "    \n",
    "    return [post_type, owner, owner_bio, date, caption, likes, num_comments, is_video, video_views]"
   ]
  },
  {
   "cell_type": "markdown",
   "metadata": {},
   "source": [
    "The following code block loops through each post, parses the post using the `parse_post()` function, and appends the returned list object to a list of lists."
   ]
  },
  {
   "cell_type": "code",
   "execution_count": 32,
   "metadata": {
    "scrolled": false
   },
   "outputs": [
    {
     "name": "stdout",
     "output_type": "stream",
     "text": [
      "1\n",
      "2\n",
      "3\n",
      "4\n",
      "5\n",
      "6\n",
      "7\n",
      "8\n",
      "9\n",
      "10\n",
      "11\n",
      "12\n",
      "13\n",
      "14\n",
      "15\n",
      "16\n",
      "17\n",
      "18\n",
      "19\n",
      "20\n",
      "21\n",
      "22\n",
      "23\n",
      "24\n",
      "25\n",
      "26\n",
      "27\n",
      "28\n",
      "29\n",
      "30\n",
      "31\n",
      "32\n",
      "33\n",
      "34\n",
      "35\n",
      "36\n",
      "37\n",
      "38\n",
      "39\n",
      "40\n",
      "41\n",
      "42\n",
      "43\n",
      "44\n",
      "45\n",
      "46\n",
      "47\n",
      "48\n",
      "49\n",
      "50\n",
      "51\n",
      "52\n",
      "53\n",
      "54\n",
      "55\n",
      "56\n",
      "57\n",
      "58\n",
      "59\n",
      "60\n",
      "61\n",
      "62\n",
      "63\n",
      "64\n",
      "65\n",
      "66\n",
      "67\n",
      "68\n",
      "69\n",
      "70\n",
      "71\n",
      "72\n",
      "73\n",
      "74\n",
      "75\n",
      "76\n",
      "77\n",
      "78\n",
      "79\n",
      "80\n",
      "81\n",
      "82\n",
      "83\n",
      "84\n",
      "85\n",
      "86\n",
      "87\n",
      "88\n",
      "89\n",
      "90\n",
      "91\n",
      "92\n",
      "93\n",
      "94\n",
      "95\n",
      "96\n",
      "97\n",
      "98\n",
      "99\n",
      "100\n"
     ]
    }
   ],
   "source": [
    "list_posts = []\n",
    "i = 0\n",
    "\n",
    "for post in posts:\n",
    "    if i < 100:\n",
    "        list_posts.append(parse_post(post))\n",
    "        i += 1\n",
    "        print(i)\n",
    "    else:\n",
    "        break"
   ]
  },
  {
   "cell_type": "markdown",
   "metadata": {},
   "source": [
    "Next, the list of lists will be converted to a pandas `dataframe` object, with the proper column names assinged."
   ]
  },
  {
   "cell_type": "code",
   "execution_count": 33,
   "metadata": {},
   "outputs": [],
   "source": [
    "posts_df = pd.DataFrame(list_posts, columns=[\"post_type\", \"owner\", \"owner_bio\", \"date\", \"caption\", \"num_likes\", \"num_comments\", \"is_video\", \"video_views\"])"
   ]
  },
  {
   "cell_type": "code",
   "execution_count": 60,
   "metadata": {},
   "outputs": [
    {
     "data": {
      "text/html": [
       "<div>\n",
       "<style scoped>\n",
       "    .dataframe tbody tr th:only-of-type {\n",
       "        vertical-align: middle;\n",
       "    }\n",
       "\n",
       "    .dataframe tbody tr th {\n",
       "        vertical-align: top;\n",
       "    }\n",
       "\n",
       "    .dataframe thead th {\n",
       "        text-align: right;\n",
       "    }\n",
       "</style>\n",
       "<table border=\"1\" class=\"dataframe\">\n",
       "  <thead>\n",
       "    <tr style=\"text-align: right;\">\n",
       "      <th></th>\n",
       "      <th>post_type</th>\n",
       "      <th>owner</th>\n",
       "      <th>owner_bio</th>\n",
       "      <th>date</th>\n",
       "      <th>caption</th>\n",
       "      <th>num_likes</th>\n",
       "      <th>num_comments</th>\n",
       "      <th>is_video</th>\n",
       "      <th>video_views</th>\n",
       "    </tr>\n",
       "  </thead>\n",
       "  <tbody>\n",
       "    <tr>\n",
       "      <td>0</td>\n",
       "      <td>GraphImage</td>\n",
       "      <td>connectwiththenatureofyourself</td>\n",
       "      <td>I facilitate those suffering with chronic pain...</td>\n",
       "      <td>2020-08-04 20:33:26</td>\n",
       "      <td>During a flare up our bodies can be the most u...</td>\n",
       "      <td>0</td>\n",
       "      <td>0</td>\n",
       "      <td>False</td>\n",
       "      <td>NaN</td>\n",
       "    </tr>\n",
       "    <tr>\n",
       "      <td>1</td>\n",
       "      <td>GraphSidecar</td>\n",
       "      <td>katieelanee</td>\n",
       "      <td>💟I help women become healthier in a way that i...</td>\n",
       "      <td>2020-08-04 20:32:08</td>\n",
       "      <td>Instead of saying you CAN’T do something - mod...</td>\n",
       "      <td>1</td>\n",
       "      <td>0</td>\n",
       "      <td>False</td>\n",
       "      <td>NaN</td>\n",
       "    </tr>\n",
       "    <tr>\n",
       "      <td>2</td>\n",
       "      <td>GraphSidecar</td>\n",
       "      <td>kinexiaclinic</td>\n",
       "      <td>➫ 𝙺𝚒𝚗𝚎𝚜𝚒𝚘𝚕𝚘𝚐í𝚊 💪\\n➫ 𝚁𝚎𝚌𝚘𝚟𝚎𝚛𝚢 👐 \\n➫ 𝙰𝚝𝚎𝚗𝚌𝚒ó𝚗 𝚎𝚗...</td>\n",
       "      <td>2020-08-04 20:30:54</td>\n",
       "      <td>⚡El dolor lumbar, es la principal causa de dis...</td>\n",
       "      <td>2</td>\n",
       "      <td>0</td>\n",
       "      <td>False</td>\n",
       "      <td>NaN</td>\n",
       "    </tr>\n",
       "    <tr>\n",
       "      <td>3</td>\n",
       "      <td>GraphVideo</td>\n",
       "      <td>solutionsphysicaltherapy</td>\n",
       "      <td>Our goal is to get YOU better FASTER! \\n🔹Post ...</td>\n",
       "      <td>2020-08-04 20:30:34</td>\n",
       "      <td>A note from Andy about direct access and two f...</td>\n",
       "      <td>0</td>\n",
       "      <td>0</td>\n",
       "      <td>True</td>\n",
       "      <td>1.0</td>\n",
       "    </tr>\n",
       "    <tr>\n",
       "      <td>4</td>\n",
       "      <td>GraphSidecar</td>\n",
       "      <td>krissychin</td>\n",
       "      <td>Owner/CEO/Physical Therapist/MFR Therapist/Bir...</td>\n",
       "      <td>2020-08-04 20:29:27</td>\n",
       "      <td>EXCITING NEWS! To accommodate my growing Priva...</td>\n",
       "      <td>3</td>\n",
       "      <td>2</td>\n",
       "      <td>False</td>\n",
       "      <td>NaN</td>\n",
       "    </tr>\n",
       "  </tbody>\n",
       "</table>\n",
       "</div>"
      ],
      "text/plain": [
       "      post_type                           owner  \\\n",
       "0    GraphImage  connectwiththenatureofyourself   \n",
       "1  GraphSidecar                     katieelanee   \n",
       "2  GraphSidecar                   kinexiaclinic   \n",
       "3    GraphVideo        solutionsphysicaltherapy   \n",
       "4  GraphSidecar                      krissychin   \n",
       "\n",
       "                                           owner_bio                date  \\\n",
       "0  I facilitate those suffering with chronic pain... 2020-08-04 20:33:26   \n",
       "1  💟I help women become healthier in a way that i... 2020-08-04 20:32:08   \n",
       "2  ➫ 𝙺𝚒𝚗𝚎𝚜𝚒𝚘𝚕𝚘𝚐í𝚊 💪\\n➫ 𝚁𝚎𝚌𝚘𝚟𝚎𝚛𝚢 👐 \\n➫ 𝙰𝚝𝚎𝚗𝚌𝚒ó𝚗 𝚎𝚗... 2020-08-04 20:30:54   \n",
       "3  Our goal is to get YOU better FASTER! \\n🔹Post ... 2020-08-04 20:30:34   \n",
       "4  Owner/CEO/Physical Therapist/MFR Therapist/Bir... 2020-08-04 20:29:27   \n",
       "\n",
       "                                             caption  num_likes  num_comments  \\\n",
       "0  During a flare up our bodies can be the most u...          0             0   \n",
       "1  Instead of saying you CAN’T do something - mod...          1             0   \n",
       "2  ⚡El dolor lumbar, es la principal causa de dis...          2             0   \n",
       "3  A note from Andy about direct access and two f...          0             0   \n",
       "4  EXCITING NEWS! To accommodate my growing Priva...          3             2   \n",
       "\n",
       "   is_video  video_views  \n",
       "0     False          NaN  \n",
       "1     False          NaN  \n",
       "2     False          NaN  \n",
       "3      True          1.0  \n",
       "4     False          NaN  "
      ]
     },
     "execution_count": 60,
     "metadata": {},
     "output_type": "execute_result"
    }
   ],
   "source": [
    "posts_df.head()"
   ]
  },
  {
   "cell_type": "code",
   "execution_count": 63,
   "metadata": {
    "scrolled": true
   },
   "outputs": [
    {
     "name": "stdout",
     "output_type": "stream",
     "text": [
      "Phsical Therapists:  ['Your fitness, educated ✨\\nPhysical therapist 🤸🏼\\u200d♀️E-RYT 200 🧘🏼\\u200d♀️\\n10-day trial, founding member price 👇🏼', 'Award winning Physio clinic high quality, hands on treatment\\nPhysio | Sports Therapy | Pilates | Massage\\nCall 07835 712306\\nLink for blogs + more 👇', 'Pelvic floor PT for pelvic pain⚡️, prenatal 🤰postpartum 🤱pediatric 💦💩\\nClick👇for free 15 min consult']\n",
      "Medical Doctors:  ['🎓 Doctor of Physical Therapy \\n🏋️\\u200d♀️ Certified Strength & Conditioning Specialist\\n❕Not medical advice\\n⬇️ Programs/Video Library']\n"
     ]
    }
   ],
   "source": [
    "pt_count = []\n",
    "md_count = []\n",
    "other_count = []\n",
    "\n",
    "for bio in posts_df[\"owner_bio\"]:\n",
    "    bio_split = bio.lower().split()\n",
    "    \n",
    "    if (\"physical\" in bio_split and \"therapist\" in bio_split) or (\"pt\" in bio_split) or (\"physio\" in bio_split):\n",
    "        pt_count.append(bio)\n",
    "    elif (\"medical\" in bio_split and \"doctor\" in bio_split) or (\"md\" in bio_split):\n",
    "        md_count.append(bio)\n",
    "        \n",
    "print(\"Phsical Therapists: \", pt_count)\n",
    "print(\"Medical Doctors: \", md_count)"
   ]
  },
  {
   "cell_type": "code",
   "execution_count": 58,
   "metadata": {},
   "outputs": [
    {
     "name": "stdout",
     "output_type": "stream",
     "text": [
      "pt_count\n"
     ]
    }
   ],
   "source": [
    "split = posts_df.loc[96, \"owner_bio\"].lower().split()\n",
    "\n",
    "if (\"physical\" and \"therapist\" in split) or (\"pt\" in split) or (\"physio\" in split):\n",
    "    print(\"pt_count\")\n",
    "elif (\"medical\" and \"doctor\" in split) or (\"doctor\" in split) or (\"md\" in split):\n",
    "    print(\"md_count\")\n",
    "else:\n",
    "    print(\"other_count\")"
   ]
  }
 ],
 "metadata": {
  "kernelspec": {
   "display_name": "Python 3",
   "language": "python",
   "name": "python3"
  },
  "language_info": {
   "codemirror_mode": {
    "name": "ipython",
    "version": 3
   },
   "file_extension": ".py",
   "mimetype": "text/x-python",
   "name": "python",
   "nbconvert_exporter": "python",
   "pygments_lexer": "ipython3",
   "version": "3.7.4"
  }
 },
 "nbformat": 4,
 "nbformat_minor": 2
}
