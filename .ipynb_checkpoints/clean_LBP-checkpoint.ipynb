{
 "cells": [
  {
   "cell_type": "code",
   "execution_count": 1,
   "metadata": {},
   "outputs": [],
   "source": [
    "import pandas as pd"
   ]
  },
  {
   "cell_type": "code",
   "execution_count": 2,
   "metadata": {},
   "outputs": [],
   "source": [
    "df = pd.read_csv(\"ig_LBP.csv\")"
   ]
  },
  {
   "cell_type": "code",
   "execution_count": 3,
   "metadata": {},
   "outputs": [
    {
     "data": {
      "text/html": [
       "<div>\n",
       "<style scoped>\n",
       "    .dataframe tbody tr th:only-of-type {\n",
       "        vertical-align: middle;\n",
       "    }\n",
       "\n",
       "    .dataframe tbody tr th {\n",
       "        vertical-align: top;\n",
       "    }\n",
       "\n",
       "    .dataframe thead th {\n",
       "        text-align: right;\n",
       "    }\n",
       "</style>\n",
       "<table border=\"1\" class=\"dataframe\">\n",
       "  <thead>\n",
       "    <tr style=\"text-align: right;\">\n",
       "      <th></th>\n",
       "      <th>Unnamed: 0</th>\n",
       "      <th>post_type</th>\n",
       "      <th>owner</th>\n",
       "      <th>owner_bio</th>\n",
       "      <th>date</th>\n",
       "      <th>caption</th>\n",
       "      <th>num_likes</th>\n",
       "      <th>num_comments</th>\n",
       "      <th>is_video</th>\n",
       "      <th>video_views</th>\n",
       "    </tr>\n",
       "  </thead>\n",
       "  <tbody>\n",
       "    <tr>\n",
       "      <td>0</td>\n",
       "      <td>0</td>\n",
       "      <td>GraphImage</td>\n",
       "      <td>daily_health_post</td>\n",
       "      <td>Healthy🍍Nutrition🥦Wellness💪\\nCurating the best...</td>\n",
       "      <td>2020-08-10 19:10:23</td>\n",
       "      <td>This #homemaderub is a relaxing treat that soo...</td>\n",
       "      <td>0</td>\n",
       "      <td>1</td>\n",
       "      <td>False</td>\n",
       "      <td>NaN</td>\n",
       "    </tr>\n",
       "    <tr>\n",
       "      <td>1</td>\n",
       "      <td>1</td>\n",
       "      <td>GraphVideo</td>\n",
       "      <td>drtonychiro</td>\n",
       "      <td>🔒Fix Neck, Back, Nerve Pain🔑\\n🚐Auto Accident R...</td>\n",
       "      <td>2020-08-10 19:10:03</td>\n",
       "      <td>Why #Walking Poorly causes Pain.\\n How to #Fix...</td>\n",
       "      <td>0</td>\n",
       "      <td>0</td>\n",
       "      <td>True</td>\n",
       "      <td>0.0</td>\n",
       "    </tr>\n",
       "    <tr>\n",
       "      <td>2</td>\n",
       "      <td>2</td>\n",
       "      <td>GraphSidecar</td>\n",
       "      <td>northcenterhealthcare</td>\n",
       "      <td>•Athletes•Pregnancy•Postpartum\\n🌿Chiropractic\\...</td>\n",
       "      <td>2020-08-10 19:09:56</td>\n",
       "      <td>What is an appointment with Dr. Moschovas like...</td>\n",
       "      <td>0</td>\n",
       "      <td>0</td>\n",
       "      <td>False</td>\n",
       "      <td>NaN</td>\n",
       "    </tr>\n",
       "    <tr>\n",
       "      <td>3</td>\n",
       "      <td>3</td>\n",
       "      <td>GraphImage</td>\n",
       "      <td>alphaspinecenter</td>\n",
       "      <td>ASC is a place of restored hope for people tha...</td>\n",
       "      <td>2020-08-10 19:09:04</td>\n",
       "      <td>WHAT'S YOUR PLAN?\\n\\nReach out to us directly ...</td>\n",
       "      <td>0</td>\n",
       "      <td>0</td>\n",
       "      <td>False</td>\n",
       "      <td>NaN</td>\n",
       "    </tr>\n",
       "    <tr>\n",
       "      <td>4</td>\n",
       "      <td>4</td>\n",
       "      <td>GraphImage</td>\n",
       "      <td>dr_spine1</td>\n",
       "      <td>Here at Urgent Care Chiropractic, we take grea...</td>\n",
       "      <td>2020-08-10 19:07:13</td>\n",
       "      <td>If you are hoping to find a non-invasive solut...</td>\n",
       "      <td>0</td>\n",
       "      <td>0</td>\n",
       "      <td>False</td>\n",
       "      <td>NaN</td>\n",
       "    </tr>\n",
       "  </tbody>\n",
       "</table>\n",
       "</div>"
      ],
      "text/plain": [
       "   Unnamed: 0     post_type                  owner  \\\n",
       "0           0    GraphImage      daily_health_post   \n",
       "1           1    GraphVideo            drtonychiro   \n",
       "2           2  GraphSidecar  northcenterhealthcare   \n",
       "3           3    GraphImage       alphaspinecenter   \n",
       "4           4    GraphImage              dr_spine1   \n",
       "\n",
       "                                           owner_bio                 date  \\\n",
       "0  Healthy🍍Nutrition🥦Wellness💪\\nCurating the best...  2020-08-10 19:10:23   \n",
       "1  🔒Fix Neck, Back, Nerve Pain🔑\\n🚐Auto Accident R...  2020-08-10 19:10:03   \n",
       "2  •Athletes•Pregnancy•Postpartum\\n🌿Chiropractic\\...  2020-08-10 19:09:56   \n",
       "3  ASC is a place of restored hope for people tha...  2020-08-10 19:09:04   \n",
       "4  Here at Urgent Care Chiropractic, we take grea...  2020-08-10 19:07:13   \n",
       "\n",
       "                                             caption  num_likes  num_comments  \\\n",
       "0  This #homemaderub is a relaxing treat that soo...          0             1   \n",
       "1  Why #Walking Poorly causes Pain.\\n How to #Fix...          0             0   \n",
       "2  What is an appointment with Dr. Moschovas like...          0             0   \n",
       "3  WHAT'S YOUR PLAN?\\n\\nReach out to us directly ...          0             0   \n",
       "4  If you are hoping to find a non-invasive solut...          0             0   \n",
       "\n",
       "   is_video  video_views  \n",
       "0     False          NaN  \n",
       "1      True          0.0  \n",
       "2     False          NaN  \n",
       "3     False          NaN  \n",
       "4     False          NaN  "
      ]
     },
     "execution_count": 3,
     "metadata": {},
     "output_type": "execute_result"
    }
   ],
   "source": [
    "df.head()"
   ]
  },
  {
   "cell_type": "code",
   "execution_count": 10,
   "metadata": {},
   "outputs": [],
   "source": [
    "df = df.drop(\"Unnamed: 0\", axis=1)"
   ]
  },
  {
   "cell_type": "code",
   "execution_count": 11,
   "metadata": {},
   "outputs": [
    {
     "data": {
      "text/plain": [
       "post_type        object\n",
       "owner            object\n",
       "owner_bio        object\n",
       "date             object\n",
       "caption          object\n",
       "num_likes         int64\n",
       "num_comments      int64\n",
       "is_video           bool\n",
       "video_views     float64\n",
       "dtype: object"
      ]
     },
     "execution_count": 11,
     "metadata": {},
     "output_type": "execute_result"
    }
   ],
   "source": [
    "df.dtypes"
   ]
  },
  {
   "cell_type": "code",
   "execution_count": null,
   "metadata": {},
   "outputs": [],
   "source": []
  },
  {
   "cell_type": "code",
   "execution_count": 13,
   "metadata": {},
   "outputs": [],
   "source": [
    "df_clean_cap = df[df[\"caption\"].notna()]"
   ]
  },
  {
   "cell_type": "code",
   "execution_count": 15,
   "metadata": {
    "scrolled": true
   },
   "outputs": [
    {
     "data": {
      "text/plain": [
       "(998, 9)"
      ]
     },
     "execution_count": 15,
     "metadata": {},
     "output_type": "execute_result"
    }
   ],
   "source": [
    "df_clean_cap.shape"
   ]
  },
  {
   "cell_type": "code",
   "execution_count": null,
   "metadata": {},
   "outputs": [],
   "source": []
  }
 ],
 "metadata": {
  "kernelspec": {
   "display_name": "Python 3",
   "language": "python",
   "name": "python3"
  },
  "language_info": {
   "codemirror_mode": {
    "name": "ipython",
    "version": 3
   },
   "file_extension": ".py",
   "mimetype": "text/x-python",
   "name": "python",
   "nbconvert_exporter": "python",
   "pygments_lexer": "ipython3",
   "version": "3.7.4"
  }
 },
 "nbformat": 4,
 "nbformat_minor": 2
}
